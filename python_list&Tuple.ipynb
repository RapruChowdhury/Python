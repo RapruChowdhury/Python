{
 "cells": [
  {
   "cell_type": "code",
   "execution_count": 1,
   "id": "8455fe8c",
   "metadata": {},
   "outputs": [],
   "source": [
    "#Python list"
   ]
  },
  {
   "cell_type": "code",
   "execution_count": 3,
   "id": "1d2524c6",
   "metadata": {},
   "outputs": [
    {
     "name": "stdout",
     "output_type": "stream",
     "text": [
      "yamaha\n"
     ]
    }
   ],
   "source": [
    "bikes=['yamaha','suzuki','ninja']\n",
    "\n",
    "first_bike=bikes[0]\n",
    "print(first_bike)"
   ]
  },
  {
   "cell_type": "code",
   "execution_count": 6,
   "id": "94d6aec0",
   "metadata": {},
   "outputs": [
    {
     "name": "stdout",
     "output_type": "stream",
     "text": [
      "ninja\n"
     ]
    }
   ],
   "source": [
    "last_bike=bikes[-1]\n",
    "print(last_bike)"
   ]
  },
  {
   "cell_type": "code",
   "execution_count": null,
   "id": "15f8175b",
   "metadata": {},
   "outputs": [
    {
     "name": "stdout",
     "output_type": "stream",
     "text": [
      "yamaha\n",
      "suzuki\n",
      "ninja\n"
     ]
    }
   ],
   "source": [
    "#using for loop print for list\n",
    "for i in bikes:\n",
    "    print(i)"
   ]
  },
  {
   "cell_type": "code",
   "execution_count": 9,
   "id": "ce90691b",
   "metadata": {},
   "outputs": [
    {
     "name": "stdout",
     "output_type": "stream",
     "text": [
      "['trek', 'Redline', 'giant']\n"
     ]
    }
   ],
   "source": [
    "#Adding items to a list\n",
    "\n",
    "bikes=[]\n",
    "bikes.append('trek')\n",
    "bikes.append('Redline')\n",
    "bikes.append('giant')\n",
    "print(bikes)"
   ]
  },
  {
   "cell_type": "markdown",
   "id": "dac5751d",
   "metadata": {},
   "source": [
    "making numerical lists"
   ]
  },
  {
   "cell_type": "code",
   "execution_count": 10,
   "id": "35df3678",
   "metadata": {},
   "outputs": [
    {
     "name": "stdout",
     "output_type": "stream",
     "text": [
      "[1]\n",
      "[1, 4]\n",
      "[1, 4, 9]\n",
      "[1, 4, 9, 16]\n",
      "[1, 4, 9, 16, 25]\n",
      "[1, 4, 9, 16, 25, 36]\n",
      "[1, 4, 9, 16, 25, 36, 49]\n",
      "[1, 4, 9, 16, 25, 36, 49, 64]\n",
      "[1, 4, 9, 16, 25, 36, 49, 64, 81]\n",
      "[1, 4, 9, 16, 25, 36, 49, 64, 81, 100]\n"
     ]
    }
   ],
   "source": [
    "squares =[]\n",
    "for x in range(1,11):\n",
    "    squares.append(x**2)\n",
    "    print(squares)\n",
    "     "
   ]
  },
  {
   "cell_type": "markdown",
   "id": "43e91d9e",
   "metadata": {},
   "source": []
  },
  {
   "cell_type": "code",
   "execution_count": null,
   "id": "d7e43115",
   "metadata": {},
   "outputs": [],
   "source": []
  }
 ],
 "metadata": {
  "kernelspec": {
   "display_name": "Python 3",
   "language": "python",
   "name": "python3"
  },
  "language_info": {
   "codemirror_mode": {
    "name": "ipython",
    "version": 3
   },
   "file_extension": ".py",
   "mimetype": "text/x-python",
   "name": "python",
   "nbconvert_exporter": "python",
   "pygments_lexer": "ipython3",
   "version": "3.10.0"
  }
 },
 "nbformat": 4,
 "nbformat_minor": 5
}
